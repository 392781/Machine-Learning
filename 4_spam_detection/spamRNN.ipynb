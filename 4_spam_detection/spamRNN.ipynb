{
 "cells": [
  {
   "cell_type": "code",
   "execution_count": 16,
   "metadata": {},
   "outputs": [],
   "source": [
    "'''\n",
    "This code is almost all thanks to this guide:\n",
    "https://www.kaggle.com/kentata/rnn-for-spam-detection/notebook\n",
    "'''\n",
    "\n",
    "\n",
    "import numpy as np\n",
    "import pandas as pd\n",
    "import matplotlib.pyplot as plt\n",
    "\n",
    "from sklearn.model_selection import train_test_split\n",
    "from sklearn.metrics import confusion_matrix\n",
    "\n",
    "from keras.layers import *\n",
    "from keras.optimizers import *\n",
    "from keras.models import Sequential\n",
    "\n",
    "from keras.preprocessing.text import Tokenizer\n",
    "from keras.preprocessing.sequence import pad_sequences"
   ]
  },
  {
   "cell_type": "code",
   "execution_count": 2,
   "metadata": {},
   "outputs": [],
   "source": [
    "data = pd.read_csv('C:\\\\Users\\\\Ronald\\\\Desktop\\\\Python\\\\MACHINE_LEARNING\\\\4_spam_detection\\\\spam.csv', encoding = 'latin-1')"
   ]
  },
  {
   "cell_type": "code",
   "execution_count": 4,
   "metadata": {},
   "outputs": [],
   "source": [
    "# Separates texts from whether they are spam or ham\n",
    "texts = []\n",
    "labels = []\n",
    "for i, label in enumerate(data['v1']):\n",
    "    texts.append(data['v2'][i])\n",
    "    \n",
    "    if (label == 'ham'):\n",
    "        labels.append(0)\n",
    "    else:\n",
    "        labels.append(1)\n",
    "\n",
    "# Change into numpy arrays\n",
    "texts = np.asarray(texts)\n",
    "labels = np.asarray(labels)"
   ]
  },
  {
   "cell_type": "code",
   "execution_count": 5,
   "metadata": {},
   "outputs": [
    {
     "name": "stdout",
     "output_type": "stream",
     "text": [
      "2786000\n"
     ]
    }
   ],
   "source": [
    "# Uses the Keras Tokenizer to create features for the data\n",
    "tokenizer = Tokenizer()\n",
    "tokenizer.fit_on_texts(texts)\n",
    "sequences = tokenizer.texts_to_sequences(texts)\n",
    "\n",
    "word_index = tokenizer.word_index\n",
    "\n",
    "data = pad_sequences(sequences, maxlen=500)"
   ]
  },
  {
   "cell_type": "code",
   "execution_count": 13,
   "metadata": {},
   "outputs": [],
   "source": [
    "# Create a 80-20 split for training and testing\n",
    "train_samples = int(data.shape[0] * .8)\n",
    "\n",
    "x_train = data[:train_samples]\n",
    "y_train = labels[:train_samples]\n",
    "x_test = data[train_samples:]\n",
    "y_test = labels[train_samples:]"
   ]
  },
  {
   "cell_type": "code",
   "execution_count": 49,
   "metadata": {},
   "outputs": [],
   "source": [
    "# Basic Keras RNN size 256\n",
    "def starter_RNN():\n",
    "    model = Sequential()\n",
    "    model.add(Embedding(10000, 32))\n",
    "    model.add(SimpleRNN(256))\n",
    "    model.add(Dense(1, activation = 'sigmoid'))\n",
    "\n",
    "    model.compile(optimizer = 'rmsprop', loss = 'binary_crossentropy', metrics = ['acc'])\n",
    "    \n",
    "    return model"
   ]
  },
  {
   "cell_type": "code",
   "execution_count": 50,
   "metadata": {},
   "outputs": [
    {
     "name": "stdout",
     "output_type": "stream",
     "text": [
      "_________________________________________________________________\n",
      "Layer (type)                 Output Shape              Param #   \n",
      "=================================================================\n",
      "embedding_11 (Embedding)     (None, None, 32)          320000    \n",
      "_________________________________________________________________\n",
      "simple_rnn_5 (SimpleRNN)     (None, 256)               73984     \n",
      "_________________________________________________________________\n",
      "dense_9 (Dense)              (None, 1)                 257       \n",
      "=================================================================\n",
      "Total params: 394,241\n",
      "Trainable params: 394,241\n",
      "Non-trainable params: 0\n",
      "_________________________________________________________________\n",
      "Train on 3565 samples, validate on 892 samples\n",
      "Epoch 1/10\n",
      "3565/3565 [==============================] - 42s 12ms/step - loss: 0.4315 - acc: 0.8424 - val_loss: 0.4201 - val_acc: 0.8599\n",
      "Epoch 2/10\n",
      "3565/3565 [==============================] - 45s 13ms/step - loss: 0.3870 - acc: 0.8687 - val_loss: 0.3829 - val_acc: 0.8599\n",
      "Epoch 3/10\n",
      "3565/3565 [==============================] - 42s 12ms/step - loss: 0.3648 - acc: 0.8480 - val_loss: 0.3395 - val_acc: 0.8655\n",
      "Epoch 4/10\n",
      "3565/3565 [==============================] - 41s 12ms/step - loss: 0.3023 - acc: 0.8847 - val_loss: 0.2910 - val_acc: 0.9002\n",
      "Epoch 5/10\n",
      "3565/3565 [==============================] - 39s 11ms/step - loss: 0.2009 - acc: 0.9450 - val_loss: 0.2734 - val_acc: 0.8957\n",
      "Epoch 6/10\n",
      "3565/3565 [==============================] - 36s 10ms/step - loss: 0.1231 - acc: 0.9588 - val_loss: 0.1642 - val_acc: 0.9484\n",
      "Epoch 7/10\n",
      "3565/3565 [==============================] - 36s 10ms/step - loss: 0.0757 - acc: 0.9750 - val_loss: 0.1211 - val_acc: 0.9619\n",
      "Epoch 8/10\n",
      "3565/3565 [==============================] - 36s 10ms/step - loss: 0.0477 - acc: 0.9854 - val_loss: 0.0986 - val_acc: 0.9641\n",
      "Epoch 9/10\n",
      "3565/3565 [==============================] - 39s 11ms/step - loss: 0.0501 - acc: 0.9832 - val_loss: 0.4120 - val_acc: 0.8868\n",
      "Epoch 10/10\n",
      "3565/3565 [==============================] - 42s 12ms/step - loss: 0.0459 - acc: 0.9843 - val_loss: 0.1087 - val_acc: 0.9753\n"
     ]
    }
   ],
   "source": [
    "# Model training\n",
    "model = starter_RNN()\n",
    "model.summary()\n",
    "results = model.fit(x_train, y_train,\n",
    "                   epochs = 10,\n",
    "                   batch_size = 32,\n",
    "                   validation_split = 0.2)"
   ]
  },
  {
   "cell_type": "code",
   "execution_count": 52,
   "metadata": {},
   "outputs": [
    {
     "data": {
      "image/png": "[encoded data removed]",
      "text/plain": [
       "<Figure size 432x288 with 1 Axes>"
      ]
     },
     "metadata": {
      "needs_background": "light"
     },
     "output_type": "display_data"
    },
    {
     "data": {
      "image/png": "[encoded data removed]",
      "text/plain": [
       "<Figure size 432x288 with 1 Axes>"
      ]
     },
     "metadata": {
      "needs_background": "light"
     },
     "output_type": "display_data"
    }
   ],
   "source": [
    "# Grabbing relevant data for graphs\n",
    "acc = results.history['acc']\n",
    "val_acc = results.history['val_acc']\n",
    "loss = results.history['loss']\n",
    "val_loss = results.history['val_loss']\n",
    "epochs = range(len(acc))\n",
    "\n",
    "# Creates Accuracy graph\n",
    "plt.plot(epochs, acc, label = 'training acc')\n",
    "plt.plot(epochs, val_acc, label = 'validation acc')\n",
    "plt.title('Train/Valid Accuracy')\n",
    "plt.legend()\n",
    "plt.show()\n",
    "\n",
    "# Creates Loss graph\n",
    "plt.plot(epochs, loss, label = 'training acc')\n",
    "plt.plot(epochs, val_loss, label = 'validation acc')\n",
    "plt.title('Train/Valid Loss')\n",
    "plt.legend()\n",
    "plt.show()"
   ]
  },
  {
   "cell_type": "code",
   "execution_count": 53,
   "metadata": {},
   "outputs": [
    {
     "name": "stdout",
     "output_type": "stream",
     "text": [
      "1115/1115 [==============================] - 5s 4ms/step\n"
     ]
    },
    {
     "data": {
      "text/html": [
       "<div>\n",
       "<style scoped>\n",
       "    .dataframe tbody tr th:only-of-type {\n",
       "        vertical-align: middle;\n",
       "    }\n",
       "\n",
       "    .dataframe tbody tr th {\n",
       "        vertical-align: top;\n",
       "    }\n",
       "\n",
       "    .dataframe thead th {\n",
       "        text-align: right;\n",
       "    }\n",
       "</style>\n",
       "<table border=\"1\" class=\"dataframe\">\n",
       "  <thead>\n",
       "    <tr style=\"text-align: right;\">\n",
       "      <th></th>\n",
       "      <th>Pred NO</th>\n",
       "      <th>Pred YES</th>\n",
       "    </tr>\n",
       "  </thead>\n",
       "  <tbody>\n",
       "    <tr>\n",
       "      <th>True NO</th>\n",
       "      <td>966</td>\n",
       "      <td>4</td>\n",
       "    </tr>\n",
       "    <tr>\n",
       "      <th>True YES</th>\n",
       "      <td>21</td>\n",
       "      <td>124</td>\n",
       "    </tr>\n",
       "  </tbody>\n",
       "</table>\n",
       "</div>"
      ],
      "text/plain": [
       "          Pred NO  Pred YES\n",
       "True NO       966         4\n",
       "True YES       21       124"
      ]
     },
     "execution_count": 53,
     "metadata": {},
     "output_type": "execute_result"
    }
   ],
   "source": [
    "# Generate predictions\n",
    "pred = model.predict_classes(x_test)\n",
    "acc = model.evaluate(x_test, y_test)\n",
    "# Create confusion matrix\n",
    "m = confusion_matrix(y_test, pred)\n",
    "\n",
    "# Create a nice dataframe for confusion matrix\n",
    "df = pd.DataFrame(index = ['True NO', 'True YES'], columns = ['Pred NO', 'Pred YES'])\n",
    "df.loc['True NO', 'Pred NO'] = m[0][0]\n",
    "df.loc['True NO', 'Pred YES'] = m[0][1]\n",
    "df.loc['True YES', 'Pred NO'] = m[1][0]\n",
    "df.loc['True YES', 'Pred YES'] = m[1][1]\n",
    "df"
   ]
  },
  {
   "cell_type": "code",
   "execution_count": null,
   "metadata": {},
   "outputs": [],
   "source": []
  }
 ],
 "metadata": {
  "kernelspec": {
   "display_name": "Python 3",
   "language": "python",
   "name": "python3"
  },
  "language_info": {
   "codemirror_mode": {
    "name": "ipython",
    "version": 3
   },
   "file_extension": ".py",
   "mimetype": "text/x-python",
   "name": "python",
   "nbconvert_exporter": "python",
   "pygments_lexer": "ipython3",
   "version": "3.6.7"
  }
 },
 "nbformat": 4,
 "nbformat_minor": 2
}
